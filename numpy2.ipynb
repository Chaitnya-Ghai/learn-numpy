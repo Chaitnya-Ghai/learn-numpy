{
 "cells": [
  {
   "cell_type": "code",
   "execution_count": 2,
   "id": "b8315b35-d56a-44c0-b06a-17faa8b4b07e",
   "metadata": {},
   "outputs": [
    {
     "name": "stdout",
     "output_type": "stream",
     "text": [
      "done\n"
     ]
    }
   ],
   "source": [
    "import numpy as np\n",
    "print(\"done\")"
   ]
  },
  {
   "cell_type": "code",
   "execution_count": 4,
   "id": "6d3e537a-b3ba-4010-9784-da05ff38a5ca",
   "metadata": {},
   "outputs": [
    {
     "name": "stdout",
     "output_type": "stream",
     "text": [
      "sum list is :\n",
      "[3, 27, 50, 62]\n"
     ]
    }
   ],
   "source": [
    "l1=[1,24,5,6]\n",
    "l2=[2,3,45,56]\n",
    "sumList=[]\n",
    "#shorter way \n",
    "len1=len(l1)\n",
    "len2=len(l2)\n",
    "minLen=min(len1,len2)\n",
    "for i in range(0,minLen):\n",
    "    sumList.append(l1[i]+l2[i])\n",
    "print(\"sum list is :\", sumList , sep=\"\\n\")"
   ]
  },
  {
   "cell_type": "code",
   "execution_count": 6,
   "id": "a0013d35-dcdc-43ad-b9f5-7581a8583e75",
   "metadata": {
    "scrolled": true
   },
   "outputs": [
    {
     "name": "stdout",
     "output_type": "stream",
     "text": [
      "sum list is :\n",
      "[1, 24, 5, 6, 2, 3, 45, 56]\n"
     ]
    }
   ],
   "source": [
    "sumList=l1+l2\n",
    "print(\"sum list is :\", sumList , sep=\"\\n\")"
   ]
  },
  {
   "cell_type": "code",
   "execution_count": 8,
   "id": "b01dbb6e-6cf7-4eb6-a7f4-8eec732987d8",
   "metadata": {},
   "outputs": [
    {
     "name": "stdout",
     "output_type": "stream",
     "text": [
      "sum list is :\n",
      "[ 7  9 11 13 15]\n"
     ]
    }
   ],
   "source": [
    "\"\"\"\n",
    "it just append the 2 list \n",
    " but pehle wale mai 2 list kai elements ka sum kra rhe hai hm\n",
    "now,\n",
    "\"\"\"\n",
    "arr1=np.array([1,2,3,4,5])\n",
    "arr2=np.array([6,7,8,9,10])\n",
    "sum=arr1+arr2\n",
    "print(\"sum list is :\", sum , sep=\"\\n\")"
   ]
  },
  {
   "cell_type": "code",
   "execution_count": 10,
   "id": "9e2e65b8-5625-40ca-86c7-41facb56132a",
   "metadata": {},
   "outputs": [
    {
     "name": "stdout",
     "output_type": "stream",
     "text": [
      "check for condition: [False False  True  True  True]\n",
      "\n",
      "what ste the values that satisfying the condtion  [3 4 5]\n"
     ]
    }
   ],
   "source": [
    "# condition to check\n",
    "arr_bool = arr1>=3\n",
    "print('check for condition:' , arr_bool , end='\\n\\n')\n",
    "print('what ste the values that satisfying the condtion ', arr1[arr_bool])"
   ]
  },
  {
   "cell_type": "code",
   "execution_count": 12,
   "id": "1d0e2230-d6fb-4217-b89a-cffbb00c0073",
   "metadata": {},
   "outputs": [
    {
     "name": "stdout",
     "output_type": "stream",
     "text": [
      "[2 3 4 5]\n"
     ]
    }
   ],
   "source": [
    "#simplify version\n",
    "arr3=arr1[arr1>=2]\n",
    "print(arr3)"
   ]
  },
  {
   "cell_type": "code",
   "execution_count": 14,
   "id": "a09c6bd8-57b4-414c-8c96-bb522484517c",
   "metadata": {},
   "outputs": [
    {
     "name": "stdout",
     "output_type": "stream",
     "text": [
      "[1 2 3 4 5]\n"
     ]
    }
   ],
   "source": [
    "arr3=arr1[arr2>=2]\n",
    "print(arr3)"
   ]
  },
  {
   "cell_type": "code",
   "execution_count": 16,
   "id": "882966fd-2aa1-4a75-a67f-7471f3bac6b8",
   "metadata": {},
   "outputs": [
    {
     "name": "stdout",
     "output_type": "stream",
     "text": [
      "1st array :\n",
      "[[1 2 3]\n",
      " [4 5 6]]\n",
      "\n",
      "2nd array :\n",
      "[[1 2 3]\n",
      " [4 5 6]]\n",
      "\n",
      "final array :\n",
      "[[10 10 10]\n",
      " [10 10 10]]\n",
      "\n"
     ]
    }
   ],
   "source": [
    "# this method used as slicing , operations on higher levels:\n",
    "a1=np.array([[1,2,3],[4,5,6]])\n",
    "a2=np.array([[11,12,13],[14,15,16]])\n",
    "print(\"1st array :\", a1 , sep=\"\\n\",end='\\n\\n')\n",
    "print(\"2nd array :\", a1 , sep=\"\\n\",end='\\n\\n')\n",
    "print(\"final array :\", a2-a1 , sep=\"\\n\",end='\\n\\n')\n"
   ]
  },
  {
   "cell_type": "code",
   "execution_count": 24,
   "id": "e4c16bb6-630d-4c17-bb92-3274ec50021e",
   "metadata": {},
   "outputs": [
    {
     "name": "stdout",
     "output_type": "stream",
     "text": [
      "using complex nested functions [ 1  3  5  7  9 11 13]\n",
      "\n",
      "using simple numpy functions:  [ 1  3  5  7  9 11 13]\n",
      "1D array\n",
      "[0. 0. 0. 0. 0.]\n",
      "\n",
      "1D array\n",
      "[[0. 0. 0.]\n",
      " [0. 0. 0.]\n",
      " [0. 0. 0.]\n",
      " [0. 0. 0.]\n",
      " [0. 0. 0.]]\n",
      "\n",
      "1D array\n",
      "[1. 1. 1. 1. 1.]\n",
      "\n",
      "1D array\n",
      "[[1 1 1]\n",
      " [1 1 1]\n",
      " [1 1 1]\n",
      " [1 1 1]\n",
      " [1 1 1]]\n",
      "\n",
      "[5 5 5 5 5]\n",
      "\n",
      "[[3 3 3 3 3]\n",
      " [3 3 3 3 3]\n",
      " [3 3 3 3 3]\n",
      " [3 3 3 3 3]\n",
      " [3 3 3 3 3]]\n",
      "\n"
     ]
    }
   ],
   "source": [
    "# functions\n",
    "arangeArr=np.array(list(range(1,15,2)))\n",
    "print('using complex nested functions' , arangeArr , end='\\n\\n')\n",
    "\n",
    "# 1 arange method:-\n",
    "arange_arr=np.arange(1,15,2)\n",
    "print('using simple numpy functions: ',arange_arr)\n",
    "\n",
    "# 2 an array with zero:-\n",
    "z = np.zeros(5)\n",
    "print('1D array' , z , sep=\"\\n\" , end='\\n\\n')\n",
    "\n",
    "zeroArr2D = np.zeros( [5,3] ,dtype=float)\n",
    "print('1D array', zeroArr2D , sep=\"\\n\" , end='\\n\\n')\n",
    "\n",
    "# array with one's\n",
    "ones = np.ones(5)\n",
    "print('1D array' , ones , sep=\"\\n\" , end='\\n\\n')\n",
    "\n",
    "ones2D = np.ones( [5,3] , dtype=int)\n",
    "print('1D array', ones2D , sep=\"\\n\" , end='\\n\\n')\n",
    "\n",
    "\n",
    "# for numbers other than 0,1\n",
    "print(np.full(shape=5,fill_value=5) , end=\"\\n\\n\" )\n",
    "print(np.full(shape=(5,5) , fill_value=3) , end='\\n\\n')\n"
   ]
  },
  {
   "cell_type": "code",
   "execution_count": 26,
   "id": "f2cc51ba-d98d-4777-819b-0b2337a71489",
   "metadata": {},
   "outputs": [
    {
     "data": {
      "text/plain": [
       "array([[0.28666789, 0.4747312 , 0.51125968],\n",
       "       [0.06121839, 0.09851621, 0.18689325],\n",
       "       [0.22442672, 0.3337883 , 0.20772835]])"
      ]
     },
     "execution_count": 26,
     "metadata": {},
     "output_type": "execute_result"
    }
   ],
   "source": [
    "# random value \n",
    "# this random value is usually b/w 0 and 1 ; \n",
    "np.random.random((3,3))"
   ]
  },
  {
   "cell_type": "code",
   "execution_count": 28,
   "id": "fd26ca0a-65cc-45fc-a1da-70dbdf37e0dc",
   "metadata": {},
   "outputs": [
    {
     "name": "stdout",
     "output_type": "stream",
     "text": [
      "[ 9 16 14  9 23 12 19 12  9  8]\n"
     ]
    },
    {
     "data": {
      "text/plain": [
       "array([[ 3,  2, 12],\n",
       "       [ 6, 11,  5],\n",
       "       [13,  5,  6]])"
      ]
     },
     "execution_count": 28,
     "metadata": {},
     "output_type": "execute_result"
    }
   ],
   "source": [
    "# random.randint and seed significance\n",
    "np.random.seed(2)\n",
    "print(np.random.randint(low=1,high=30,size=10))\n",
    "np.random.randint(low=1,high=15,size=(3,3))"
   ]
  },
  {
   "cell_type": "code",
   "execution_count": 32,
   "id": "7819c7e6-0ae8-4cae-a48c-d751549abbf1",
   "metadata": {},
   "outputs": [
    {
     "name": "stdout",
     "output_type": "stream",
     "text": [
      "total time consumed:  0.035600900650024414\n"
     ]
    }
   ],
   "source": [
    "import time\n",
    "l1 = [i for i in range (200000)]\n",
    "l2= [j**2 for j in range(200000)]\n",
    "# starting clock\n",
    "start=time.time()\n",
    "multi=list(map(lambda x, y:x*y , l1,l2))\n",
    "end=time.time()\n",
    "print(\"total time consumed: \",end-start)"
   ]
  },
  {
   "cell_type": "code",
   "execution_count": 34,
   "id": "314cdf1a-fd35-4820-9df2-e97d639f806a",
   "metadata": {},
   "outputs": [
    {
     "name": "stdout",
     "output_type": "stream",
     "text": [
      "total time consumed:  0.0010118484497070312\n"
     ]
    }
   ],
   "source": [
    "a1=np.array([i for i in range(200000)])\n",
    "a2=np.array([j**2 for j in range(200000)])\n",
    "# starting clock\n",
    "start=time.time()\n",
    "multiplication=a1*a2\n",
    "end=time.time()\n",
    "print(\"total time consumed: \",end-start)"
   ]
  },
  {
   "cell_type": "code",
   "execution_count": null,
   "id": "88a43ba1-3542-4d16-a782-5c84ca8d2587",
   "metadata": {},
   "outputs": [],
   "source": []
  }
 ],
 "metadata": {
  "kernelspec": {
   "display_name": "Python 3 (ipykernel)",
   "language": "python",
   "name": "python3"
  },
  "language_info": {
   "codemirror_mode": {
    "name": "ipython",
    "version": 3
   },
   "file_extension": ".py",
   "mimetype": "text/x-python",
   "name": "python",
   "nbconvert_exporter": "python",
   "pygments_lexer": "ipython3",
   "version": "3.12.7"
  }
 },
 "nbformat": 4,
 "nbformat_minor": 5
}
