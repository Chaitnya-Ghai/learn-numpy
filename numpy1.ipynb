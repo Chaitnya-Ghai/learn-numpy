{
 "cells": [
  {
   "cell_type": "code",
   "execution_count": 2,
   "id": "ef9348ba-8468-418f-bd2e-e26cabaaf12d",
   "metadata": {},
   "outputs": [
    {
     "name": "stdout",
     "output_type": "stream",
     "text": [
      "package successfully imported\n"
     ]
    }
   ],
   "source": [
    "#import\n",
    "import numpy as np\n",
    "print(\"package successfully imported\")"
   ]
  },
  {
   "cell_type": "code",
   "execution_count": 8,
   "id": "d12c07f2-8db6-4421-a2f6-bb04d3a81ce0",
   "metadata": {},
   "outputs": [
    {
     "name": "stdout",
     "output_type": "stream",
     "text": [
      "<class 'list'>\n",
      "[1, 2, 3, 4, 5, 6]\n"
     ]
    }
   ],
   "source": [
    "record = [1,2,3,4,5,6]\n",
    "print(type(record))\n",
    "print(record)"
   ]
  },
  {
   "cell_type": "code",
   "execution_count": 10,
   "id": "2ecac65a-eb7e-480a-af6e-721d8c17b81c",
   "metadata": {},
   "outputs": [
    {
     "name": "stdout",
     "output_type": "stream",
     "text": [
      "<class 'numpy.ndarray'>\n",
      "[1 2 3 4 5 6]\n"
     ]
    }
   ],
   "source": [
    "recordArr=np.array(record)\n",
    "print(type(recordArr))\n",
    "print(recordArr)"
   ]
  },
  {
   "cell_type": "code",
   "execution_count": 12,
   "id": "b9e27651-c1f8-4794-8e41-f01470fb6ca4",
   "metadata": {},
   "outputs": [
    {
     "name": "stdout",
     "output_type": "stream",
     "text": [
      "<class 'tuple'>\n",
      "(1, 2, 3, 4, 5, 6)\n",
      "<class 'numpy.ndarray'>\n",
      "[1 2 3 4 5 6]\n"
     ]
    }
   ],
   "source": [
    "t = (1,2,3,4,5,6)\n",
    "print(type(t))\n",
    "print(t)\n",
    "tArr=np.array(t)\n",
    "print(type(tArr))\n",
    "print(tArr)"
   ]
  },
  {
   "cell_type": "code",
   "execution_count": 16,
   "id": "1c3f519f-eed6-4699-9af7-96a8aa122723",
   "metadata": {},
   "outputs": [
    {
     "name": "stdout",
     "output_type": "stream",
     "text": [
      "2D-array :\n",
      " [[1 2 3]\n",
      " [4 5 6]]\n"
     ]
    }
   ],
   "source": [
    "arr2d =  np.array([[1,2,3],[4,5,6]])\n",
    "print(\"2D-array :\\n\",arr2d)"
   ]
  },
  {
   "cell_type": "code",
   "execution_count": null,
   "id": "14e0b8e4-0f2d-4dd9-9af1-1a57ddb514dd",
   "metadata": {},
   "outputs": [],
   "source": []
  },
  {
   "cell_type": "code",
   "execution_count": null,
   "id": "f411c94f",
   "metadata": {},
   "outputs": [],
   "source": []
  }
 ],
 "metadata": {
  "kernelspec": {
   "display_name": "Python 3",
   "language": "python",
   "name": "python3"
  },
  "language_info": {
   "codemirror_mode": {
    "name": "ipython",
    "version": 3
   },
   "file_extension": ".py",
   "mimetype": "text/x-python",
   "name": "python",
   "nbconvert_exporter": "python",
   "pygments_lexer": "ipython3",
   "version": "3.13.2"
  }
 },
 "nbformat": 4,
 "nbformat_minor": 5
}
